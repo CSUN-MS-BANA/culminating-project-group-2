{
 "cells": [
  {
   "cell_type": "code",
   "execution_count": 1,
   "metadata": {},
   "outputs": [],
   "source": [
    "# importing libaries\n",
    "import numpy as np\n",
    "import pandas as pd\n",
    "import matplotlib.pyplot as plt\n",
    "import seaborn as sns\n",
    "%matplotlib inline\n",
    "import os\n",
    "import glob\n",
    "from sklearn.model_selection import train_test_split\n",
    "from sklearn.preprocessing import StandardScaler\n",
    "from sklearn.linear_model import LogisticRegression\n",
    "from sklearn.metrics import accuracy_score, classification_report, confusion_matrix, roc_auc_score\n",
    "from sklearn.tree import DecisionTreeClassifier\n",
    "from sklearn.metrics import accuracy_score, precision_score, recall_score, f1_score\n",
    "from sklearn.neighbors import NearestNeighbors\n",
    "from tensorflow.keras.models import Sequential\n",
    "from tensorflow.keras.layers import LSTM, Dense, Dropout\n"
   ]
  },
  {
   "cell_type": "code",
   "execution_count": 37,
   "metadata": {},
   "outputs": [],
   "source": [
    "# Read in the events data\n",
    "countryIndi = pd.read_csv('../WEEK 3/Indicators/Country_Indicators.csv')\n",
    "country = pd.read_csv('../WEEK 3/Indicators/Country.csv')\n",
    "economicIndi = pd.read_csv('../WEEK 3/Indicators/Economic_Indicators.csv')\n",
    "enviroIndi= pd.read_csv('../WEEK 3/Indicators/Environmental_Indicators.csv')\n",
    "qpsdIndi= pd.read_csv('../WEEK 3/Indicators/Public_Debt_Indicators_Agg.csv')\n",
    "socialIndi= pd.read_csv('../WEEK 3/Indicators/Social_Indicators.csv')\n",
    "statIndi= pd.read_csv('../WEEK 3/Indicators/Statistical_Indicators.csv')\n",
    "yearIndi= pd.read_csv('../WEEK 3/Indicators/Year_Table.csv')\n",
    "\n"
   ]
  },
  {
   "cell_type": "code",
   "execution_count": null,
   "metadata": {},
   "outputs": [
    {
     "name": "stdout",
     "output_type": "stream",
     "text": [
      "Tables in the database:\n",
      "['sqlite_sequence', 'Year_Table', 'Country_Year', 'Country_Indicators', 'Economic_Indicators', 'Environmental_Indicators', 'Public_Debt_Indicators_Agg', 'Social_Indicators', 'Statistical_Indicators', 'Country']\n"
     ]
    }
   ],
   "source": [
    "import sqlite3\n",
    "import pandas as pd\n",
    "\n",
    "# Connect to the SQLite database\n",
    "conn = sqlite3.connect('../culminating-project-group-2/Database/team2_DB.db')  # Replace with your database file\n",
    "\n",
    "# Step 1: Retrieve all table names in the database\n",
    "query_tables = \"SELECT name FROM sqlite_master WHERE type='table';\"\n",
    "tables = pd.read_sql_query(query_tables, conn)\n",
    "\n",
    "# Print table names\n",
    "print(\"Tables in the database:\")\n",
    "print(tables['name'].tolist())  # Convert DataFrame column to a list\n",
    "\n",
    "\n"
   ]
  },
  {
   "cell_type": "code",
   "execution_count": null,
   "metadata": {},
   "outputs": [
    {
     "name": "stdout",
     "output_type": "stream",
     "text": [
      "Common Country Count: 106\n",
      "Common Countries: ALB, ARG, ARM, AUS, AUT, BGD, BRB, BEL, BOL, BIH, BWA, BRA, BGR, BFA, KHM, CAN, CHL, CHN, COL, COD, CRI, CIV, HRV, CYP, CZE, DNK, DOM, SLV, EST, FJI, FIN, FRA, GEO, DEU, GRC, GTM, HND, HUN, ISL, IDN, IRL, ISR, ITA, JPN, KAZ, KEN, KOR, XKX, KGZ, LVA, LBN, LSO, LTU, LUX, MDG, MWI, MYS, MDV, MLT, MUS, MEX, MDA, MNG, MAR, NPL, NLD, NZL, NIC, NGA, MKD, NOR, PAK, PNG, PRY, PER, PHL, POL, PRT, ROU, RUS, RWA, SAU, SEN, SRB, SYC, SVK, SVN, SLB, ZAF, ESP, LKA, LCA, SUR, SWE, CHE, TJK, TZA, THA, TLS, TGO, TON, TUR, UGA, GBR, USA, URY\n"
     ]
    }
   ],
   "source": [
    "import sqlite3\n",
    "import pandas as pd\n",
    "\n",
    "# Connect to the SQLite database\n",
    "conn = sqlite3.connect('../culminating-project-group-2/Database/team2_DB.db')  # Replace with your database file\n",
    "\n",
    "# Define the SQL query\n",
    "query = \"\"\"\n",
    "    SELECT DISTINCT e.\"Country Code\"\n",
    "    FROM \"Environmental_Indicators\" e\n",
    "    INNER JOIN \"Public_Debt_Indicators_Agg\" p ON e.\"Country Code\" = p.\"Country Code\"\n",
    "    INNER JOIN \"Economic_Indicators\" ec ON e.\"Country Code\" = ec.\"Country Code\"\n",
    "    INNER JOIN \"Social_Indicators\" s ON e.\"Country Code\" = s.\"Country Code\"\n",
    "    INNER JOIN \"Statistical_Indicators\" si ON e.\"Country Code\" = si.\"Country_Code\"\n",
    "    INNER JOIN \"Country_Indicators\" cy ON e.\"Country Code\" = cy.\"Country Code\";\n",
    "\"\"\"\n",
    "\n",
    "# Execute query and load results into a DataFrame\n",
    "df = pd.read_sql_query(query, conn)\n",
    "\n",
    "# Count distinct countries\n",
    "common_country_count = df[\"Country Code\"].nunique()\n",
    "\n",
    "# Concatenate country codes into a single string\n",
    "common_countries = \", \".join(df[\"Country Code\"].unique())\n",
    "\n",
    "# Print results\n",
    "print(f\"Common Country Count: {common_country_count}\")\n",
    "print(f\"Common Countries: {common_countries}\")\n",
    "\n",
    "# Close connection\n",
    "conn.close()\n"
   ]
  },
  {
   "cell_type": "code",
   "execution_count": 38,
   "metadata": {},
   "outputs": [],
   "source": [
    "# List of DataFrames\n",
    "dataframes = {'df1': countryIndi, 'df2': country, 'df3': economicIndi, 'df4': enviroIndi, 'df5': qpsdIndi, 'df6': socialIndi, 'df7': statIndi, 'df8': yearIndi}\n",
    "\n",
    "# Function to calculate overall missing data percentage\n",
    "def total_missing_percentage(df):\n",
    "    total_missing = df.isnull().sum().sum()  # Total missing values in DataFrame\n",
    "    total_values = df.size  # Total number of values in DataFrame\n",
    "    return (total_missing / total_values) * 100\n",
    "\n",
    "# Creating a dictionary to store overall missing data percentage\n",
    "missing_data_summary = {name: total_missing_percentage(df) for name, df in dataframes.items()}\n",
    "\n",
    "# Converting to DataFrame for better visualization\n",
    "missing_summary_df = pd.DataFrame(missing_data_summary.items(), columns=['DataFrame', 'Missing Percentage'])"
   ]
  },
  {
   "cell_type": "code",
   "execution_count": 42,
   "metadata": {},
   "outputs": [
    {
     "data": {
      "text/plain": [
       "Index(['Country Name', 'Country Code', 'Time', 'Time Code',\n",
       "       'Adjusted net national income (annual % growth) [NY.ADJ.NNTY.KD.ZG]',\n",
       "       'Adjusted net national income (constant 2015 US$) [NY.ADJ.NNTY.KD]',\n",
       "       'Adjusted net national income (current US$) [NY.ADJ.NNTY.CD]',\n",
       "       'Adjusted net national income per capita (annual % growth) [NY.ADJ.NNTY.PC.KD.ZG]',\n",
       "       'Adjusted net national income per capita (constant 2015 US$) [NY.ADJ.NNTY.PC.KD]',\n",
       "       'Adjusted net national income per capita (current US$) [NY.ADJ.NNTY.PC.CD]'],\n",
       "      dtype='object')"
      ]
     },
     "execution_count": 42,
     "metadata": {},
     "output_type": "execute_result"
    }
   ],
   "source": [
    "countryIndi.columns"
   ]
  },
  {
   "cell_type": "code",
   "execution_count": 39,
   "metadata": {},
   "outputs": [
    {
     "data": {
      "application/vnd.microsoft.datawrangler.viewer.v0+json": {
       "columns": [
        {
         "name": "index",
         "rawType": "int64",
         "type": "integer"
        },
        {
         "name": "DataFrame",
         "rawType": "object",
         "type": "string"
        },
        {
         "name": "Missing Percentage",
         "rawType": "float64",
         "type": "float"
        }
       ],
       "conversionMethod": "pd.DataFrame",
       "ref": "28dabf3e-4254-4c21-ba98-e0b14643e225",
       "rows": [
        [
         "0",
         "df1",
         "0.654320987654321"
        ],
        [
         "1",
         "df2",
         "86.0"
        ],
        [
         "2",
         "df3",
         "0.619002270895905"
        ],
        [
         "3",
         "df4",
         "0.6000226423638627"
        ],
        [
         "4",
         "df5",
         "0.0"
        ],
        [
         "5",
         "df6",
         "0.6193441261934413"
        ],
        [
         "6",
         "df7",
         "0.0"
        ],
        [
         "7",
         "df8",
         "0.0"
        ]
       ],
       "shape": {
        "columns": 2,
        "rows": 8
       }
      },
      "text/html": [
       "<div>\n",
       "<style scoped>\n",
       "    .dataframe tbody tr th:only-of-type {\n",
       "        vertical-align: middle;\n",
       "    }\n",
       "\n",
       "    .dataframe tbody tr th {\n",
       "        vertical-align: top;\n",
       "    }\n",
       "\n",
       "    .dataframe thead th {\n",
       "        text-align: right;\n",
       "    }\n",
       "</style>\n",
       "<table border=\"1\" class=\"dataframe\">\n",
       "  <thead>\n",
       "    <tr style=\"text-align: right;\">\n",
       "      <th></th>\n",
       "      <th>DataFrame</th>\n",
       "      <th>Missing Percentage</th>\n",
       "    </tr>\n",
       "  </thead>\n",
       "  <tbody>\n",
       "    <tr>\n",
       "      <th>0</th>\n",
       "      <td>df1</td>\n",
       "      <td>0.654321</td>\n",
       "    </tr>\n",
       "    <tr>\n",
       "      <th>1</th>\n",
       "      <td>df2</td>\n",
       "      <td>86.000000</td>\n",
       "    </tr>\n",
       "    <tr>\n",
       "      <th>2</th>\n",
       "      <td>df3</td>\n",
       "      <td>0.619002</td>\n",
       "    </tr>\n",
       "    <tr>\n",
       "      <th>3</th>\n",
       "      <td>df4</td>\n",
       "      <td>0.600023</td>\n",
       "    </tr>\n",
       "    <tr>\n",
       "      <th>4</th>\n",
       "      <td>df5</td>\n",
       "      <td>0.000000</td>\n",
       "    </tr>\n",
       "    <tr>\n",
       "      <th>5</th>\n",
       "      <td>df6</td>\n",
       "      <td>0.619344</td>\n",
       "    </tr>\n",
       "    <tr>\n",
       "      <th>6</th>\n",
       "      <td>df7</td>\n",
       "      <td>0.000000</td>\n",
       "    </tr>\n",
       "    <tr>\n",
       "      <th>7</th>\n",
       "      <td>df8</td>\n",
       "      <td>0.000000</td>\n",
       "    </tr>\n",
       "  </tbody>\n",
       "</table>\n",
       "</div>"
      ],
      "text/plain": [
       "  DataFrame  Missing Percentage\n",
       "0       df1            0.654321\n",
       "1       df2           86.000000\n",
       "2       df3            0.619002\n",
       "3       df4            0.600023\n",
       "4       df5            0.000000\n",
       "5       df6            0.619344\n",
       "6       df7            0.000000\n",
       "7       df8            0.000000"
      ]
     },
     "execution_count": 39,
     "metadata": {},
     "output_type": "execute_result"
    }
   ],
   "source": [
    "missing_summary_df.head(30)"
   ]
  }
 ],
 "metadata": {
  "kernelspec": {
   "display_name": "base",
   "language": "python",
   "name": "python3"
  },
  "language_info": {
   "codemirror_mode": {
    "name": "ipython",
    "version": 3
   },
   "file_extension": ".py",
   "mimetype": "text/x-python",
   "name": "python",
   "nbconvert_exporter": "python",
   "pygments_lexer": "ipython3",
   "version": "3.11.5"
  }
 },
 "nbformat": 4,
 "nbformat_minor": 2
}
