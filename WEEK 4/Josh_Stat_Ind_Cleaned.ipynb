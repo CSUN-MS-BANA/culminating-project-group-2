{
 "cells": [
  {
   "cell_type": "code",
   "execution_count": null,
   "metadata": {},
   "outputs": [],
   "source": [
    "import pandas as pd\n",
    "import numpy as np\n",
    "import sqlite3\n",
    "import os\n",
    "from sklearn.decomposition import PCA\n",
    "from sklearn.preprocessing import StandardScaler"
   ]
  },
  {
   "cell_type": "code",
   "execution_count": null,
   "metadata": {},
   "outputs": [],
   "source": [
    "os.getcwd()"
   ]
  },
  {
   "cell_type": "code",
   "execution_count": null,
   "metadata": {},
   "outputs": [],
   "source": [
    "conn = sqlite3.connect(r'C:\\Users\\joshd\\OneDrive\\Desktop\\culminating-project-group-2-1\\Database\\team2_DB.db')\n",
    "\n",
    "query = \"\"\"SELECT Country_Name, Country_Code, Time, Time_Code, Broad_Money_Perc, \n",
    "        Broad_Money_Growth, Broad_Money_Reserves, Broad_Money_Total, Exchange_Rate  \n",
    "FROM Statistical_Indicators\n",
    "WHERE (SELECT count(\"Country_Code\") FROM Statistical_Indicators GROUP BY Country_Code) = 3\n",
    "AND Broad_Money_Perc\n",
    "AND Broad_Money_Growth\n",
    "AND Broad_Money_Reserves\n",
    "AND Broad_Money_Total\n",
    "AND Exchange_Rate <> '..' \"\"\"\n",
    "\n",
    "df = pd.read_sql_query(query, conn)"
   ]
  },
  {
   "cell_type": "code",
   "execution_count": null,
   "metadata": {},
   "outputs": [],
   "source": [
    "# create list of unique countries\n",
    "\n",
    "unique_countries = df['Country_Name'].unique().tolist()\n",
    "count_countries = len(unique_countries)\n",
    "print(unique_countries)\n",
    "print(count_countries)"
   ]
  },
  {
   "cell_type": "code",
   "execution_count": null,
   "metadata": {},
   "outputs": [],
   "source": [
    "# Conduct PCA on Broad Money columns\n",
    "\n",
    "pca_columns = ['Broad_Money_Perc', 'Broad_Money_Growth', 'Broad_Money_Reserves', 'Broad_Money_Total']\n",
    "\n",
    "scaler = StandardScaler()\n",
    "scaled_data = scaler.fit_transform(df[pca_columns])\n",
    "\n",
    "pca = PCA(n_components=2) \n",
    "pca_result = pca.fit_transform(scaled_data)\n",
    "\n",
    "pca_df = pd.DataFrame(data=pca_result, columns=['BM_PC1', 'BM_PC2'])\n",
    "print(pca_df.head())"
   ]
  },
  {
   "cell_type": "code",
   "execution_count": null,
   "metadata": {
    "vscode": {
     "languageId": "ruby"
    }
   },
   "outputs": [],
   "source": [
    "# Standardize Exchange Rate to fall between -1 and 1 with 100 as the 0\n",
    "df['Exchange_Rate_Standardized'] = (df['Exchange_Rate'] - 100) / 100\n",
    "print(df[['Exchange_Rate', 'Exchange_Rate_Standardized']].head(20))"
   ]
  },
  {
   "cell_type": "code",
   "execution_count": null,
   "metadata": {
    "vscode": {
     "languageId": "ruby"
    }
   },
   "outputs": [],
   "source": [
    "df = pd.concat([df, pca_df], axis=1)\n",
    "print(df.head())"
   ]
  },
  {
   "cell_type": "code",
   "execution_count": null,
   "metadata": {
    "vscode": {
     "languageId": "ruby"
    }
   },
   "outputs": [],
   "source": [
    "df.info()"
   ]
  },
  {
   "cell_type": "code",
   "execution_count": 28,
   "metadata": {
    "vscode": {
     "languageId": "ruby"
    }
   },
   "outputs": [
    {
     "data": {
      "application/vnd.microsoft.datawrangler.viewer.v0+json": {
       "columns": [
        {
         "name": "index",
         "rawType": "object",
         "type": "string"
        },
        {
         "name": "Time",
         "rawType": "float64",
         "type": "float"
        },
        {
         "name": "Exchange_Rate",
         "rawType": "float64",
         "type": "float"
        },
        {
         "name": "Exchange_Rate_Standardized",
         "rawType": "float64",
         "type": "float"
        },
        {
         "name": "BM_PC1",
         "rawType": "float64",
         "type": "float"
        },
        {
         "name": "BM_PC2",
         "rawType": "float64",
         "type": "float"
        }
       ],
       "conversionMethod": "pd.DataFrame",
       "ref": "3eea9b62-eb1b-48b7-8466-0c5a755109e7",
       "rows": [
        [
         "count",
         "342.0",
         "342.0",
         "342.0",
         "342.0",
         "342.0"
        ],
        [
         "mean",
         "2021.9444444444443",
         "703.0681386831812",
         "6.030681386831812",
         "-1.5582077538598687e-17",
         "-2.5970129230997812e-17"
        ],
        [
         "std",
         "0.8139985741527489",
         "2608.9030469755207",
         "26.089030469755212",
         "1.1420070509078641",
         "1.0942690940713493"
        ],
        [
         "min",
         "2021.0",
         "0.301643111",
         "-0.99698356889",
         "-1.060329942814151",
         "-5.919570207898059"
        ],
        [
         "25%",
         "2021.0",
         "3.2237183305",
         "-0.967762816695",
         "-0.45079018239339624",
         "-0.17438344400252048"
        ],
        [
         "50%",
         "2022.0",
         "18.6737169",
         "-0.813262831",
         "-0.293141947155163",
         "0.17458781069257812"
        ],
        [
         "75%",
         "2023.0",
         "139.37052595",
         "0.39370525950000007",
         "-0.013120932807868232",
         "0.4821150085205398"
        ],
        [
         "max",
         "2023.0",
         "23271.2125",
         "231.71212500000001",
         "13.872172693884231",
         "7.101879050325465"
        ]
       ],
       "shape": {
        "columns": 5,
        "rows": 8
       }
      },
      "text/html": [
       "<div>\n",
       "<style scoped>\n",
       "    .dataframe tbody tr th:only-of-type {\n",
       "        vertical-align: middle;\n",
       "    }\n",
       "\n",
       "    .dataframe tbody tr th {\n",
       "        vertical-align: top;\n",
       "    }\n",
       "\n",
       "    .dataframe thead th {\n",
       "        text-align: right;\n",
       "    }\n",
       "</style>\n",
       "<table border=\"1\" class=\"dataframe\">\n",
       "  <thead>\n",
       "    <tr style=\"text-align: right;\">\n",
       "      <th></th>\n",
       "      <th>Time</th>\n",
       "      <th>Exchange_Rate</th>\n",
       "      <th>Exchange_Rate_Standardized</th>\n",
       "      <th>BM_PC1</th>\n",
       "      <th>BM_PC2</th>\n",
       "    </tr>\n",
       "  </thead>\n",
       "  <tbody>\n",
       "    <tr>\n",
       "      <th>count</th>\n",
       "      <td>342.000000</td>\n",
       "      <td>342.000000</td>\n",
       "      <td>342.000000</td>\n",
       "      <td>3.420000e+02</td>\n",
       "      <td>3.420000e+02</td>\n",
       "    </tr>\n",
       "    <tr>\n",
       "      <th>mean</th>\n",
       "      <td>2021.944444</td>\n",
       "      <td>703.068139</td>\n",
       "      <td>6.030681</td>\n",
       "      <td>-1.558208e-17</td>\n",
       "      <td>-2.597013e-17</td>\n",
       "    </tr>\n",
       "    <tr>\n",
       "      <th>std</th>\n",
       "      <td>0.813999</td>\n",
       "      <td>2608.903047</td>\n",
       "      <td>26.089030</td>\n",
       "      <td>1.142007e+00</td>\n",
       "      <td>1.094269e+00</td>\n",
       "    </tr>\n",
       "    <tr>\n",
       "      <th>min</th>\n",
       "      <td>2021.000000</td>\n",
       "      <td>0.301643</td>\n",
       "      <td>-0.996984</td>\n",
       "      <td>-1.060330e+00</td>\n",
       "      <td>-5.919570e+00</td>\n",
       "    </tr>\n",
       "    <tr>\n",
       "      <th>25%</th>\n",
       "      <td>2021.000000</td>\n",
       "      <td>3.223718</td>\n",
       "      <td>-0.967763</td>\n",
       "      <td>-4.507902e-01</td>\n",
       "      <td>-1.743834e-01</td>\n",
       "    </tr>\n",
       "    <tr>\n",
       "      <th>50%</th>\n",
       "      <td>2022.000000</td>\n",
       "      <td>18.673717</td>\n",
       "      <td>-0.813263</td>\n",
       "      <td>-2.931419e-01</td>\n",
       "      <td>1.745878e-01</td>\n",
       "    </tr>\n",
       "    <tr>\n",
       "      <th>75%</th>\n",
       "      <td>2023.000000</td>\n",
       "      <td>139.370526</td>\n",
       "      <td>0.393705</td>\n",
       "      <td>-1.312093e-02</td>\n",
       "      <td>4.821150e-01</td>\n",
       "    </tr>\n",
       "    <tr>\n",
       "      <th>max</th>\n",
       "      <td>2023.000000</td>\n",
       "      <td>23271.212500</td>\n",
       "      <td>231.712125</td>\n",
       "      <td>1.387217e+01</td>\n",
       "      <td>7.101879e+00</td>\n",
       "    </tr>\n",
       "  </tbody>\n",
       "</table>\n",
       "</div>"
      ],
      "text/plain": [
       "              Time  Exchange_Rate  Exchange_Rate_Standardized        BM_PC1  \\\n",
       "count   342.000000     342.000000                  342.000000  3.420000e+02   \n",
       "mean   2021.944444     703.068139                    6.030681 -1.558208e-17   \n",
       "std       0.813999    2608.903047                   26.089030  1.142007e+00   \n",
       "min    2021.000000       0.301643                   -0.996984 -1.060330e+00   \n",
       "25%    2021.000000       3.223718                   -0.967763 -4.507902e-01   \n",
       "50%    2022.000000      18.673717                   -0.813263 -2.931419e-01   \n",
       "75%    2023.000000     139.370526                    0.393705 -1.312093e-02   \n",
       "max    2023.000000   23271.212500                  231.712125  1.387217e+01   \n",
       "\n",
       "             BM_PC2  \n",
       "count  3.420000e+02  \n",
       "mean  -2.597013e-17  \n",
       "std    1.094269e+00  \n",
       "min   -5.919570e+00  \n",
       "25%   -1.743834e-01  \n",
       "50%    1.745878e-01  \n",
       "75%    4.821150e-01  \n",
       "max    7.101879e+00  "
      ]
     },
     "execution_count": 28,
     "metadata": {},
     "output_type": "execute_result"
    }
   ],
   "source": [
    "df.describe()"
   ]
  }
 ],
 "metadata": {
  "kernelspec": {
   "display_name": "base",
   "language": "python",
   "name": "python3"
  },
  "language_info": {
   "codemirror_mode": {
    "name": "ipython",
    "version": 3
   },
   "file_extension": ".py",
   "mimetype": "text/x-python",
   "name": "python",
   "nbconvert_exporter": "python",
   "pygments_lexer": "ipython3",
   "version": "3.11.7"
  }
 },
 "nbformat": 4,
 "nbformat_minor": 2
}
