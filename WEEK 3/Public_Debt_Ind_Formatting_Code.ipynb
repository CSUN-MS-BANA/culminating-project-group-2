{
 "cells": [
  {
   "cell_type": "code",
   "execution_count": null,
   "metadata": {},
   "outputs": [],
   "source": [
    "import pandas as pd\n",
    "import numpy as np"
   ]
  },
  {
   "cell_type": "code",
   "execution_count": null,
   "metadata": {},
   "outputs": [],
   "source": [
    "# Read data from csv file\n",
    "df = pd.read_csv(r\"C:\\Users\\joshd\\OneDrive\\Desktop\\Public_Debt_Indicators.csv\")"
   ]
  },
  {
   "cell_type": "code",
   "execution_count": null,
   "metadata": {},
   "outputs": [],
   "source": [
    "# Extract the year from the 'Time' column (assuming the format is 'YYYYQX')\n",
    "df['Time'] = df['Time'].str[:4]\n",
    "\n",
    "# Drop non-numeric columns except for identifiers ('Country Name', 'Country Code', 'Year')\n",
    "columns_to_keep = ['Country Name', 'Country Code', 'Time']\n",
    "numeric_columns = df.drop(columns=columns_to_keep, errors='ignore').apply(pd.to_numeric, errors='coerce')\n",
    "\n",
    "# Combine numeric data with identifier columns\n",
    "df_numeric = pd.concat([df[columns_to_keep], numeric_columns], axis=1)\n",
    "\n",
    "# Group by 'Country Name', 'Country Code', and 'Year', summing the numeric columns\n",
    "df_yearly = df_numeric.groupby(['Country Name', 'Country Code', 'Time'], as_index=False).sum()\n",
    "\n",
    "# Save or display the new dataset\n",
    "df_yearly.to_csv(\"yearly_aggregated_data.csv\", index=False)  # Saves as a new CSV file\n",
    "print(df_yearly.head())  # Displays the first few rows\n"
   ]
  },
  {
   "cell_type": "code",
   "execution_count": null,
   "metadata": {},
   "outputs": [],
   "source": [
    "df_yearly.shape"
   ]
  }
 ],
 "metadata": {
  "kernelspec": {
   "display_name": "base",
   "language": "python",
   "name": "python3"
  },
  "language_info": {
   "codemirror_mode": {
    "name": "ipython",
    "version": 3
   },
   "file_extension": ".py",
   "mimetype": "text/x-python",
   "name": "python",
   "nbconvert_exporter": "python",
   "pygments_lexer": "ipython3",
   "version": "3.11.7"
  }
 },
 "nbformat": 4,
 "nbformat_minor": 2
}
