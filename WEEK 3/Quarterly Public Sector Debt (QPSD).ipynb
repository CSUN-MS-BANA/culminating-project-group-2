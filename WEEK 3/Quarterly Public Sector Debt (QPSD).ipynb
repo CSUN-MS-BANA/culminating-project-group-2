{
 "cells": [
  {
   "cell_type": "code",
   "execution_count": 2,
   "metadata": {},
   "outputs": [],
   "source": [
    "# importing libaries\n",
    "import numpy as np\n",
    "import pandas as pd\n",
    "import matplotlib.pyplot as plt\n",
    "import seaborn as sns\n",
    "%matplotlib inline\n",
    "import os\n",
    "import glob\n",
    "from sklearn.model_selection import train_test_split\n",
    "from sklearn.preprocessing import StandardScaler\n",
    "from sklearn.linear_model import LogisticRegression\n",
    "from sklearn.metrics import accuracy_score, classification_report, confusion_matrix, roc_auc_score\n",
    "from sklearn.tree import DecisionTreeClassifier\n",
    "from sklearn.metrics import accuracy_score, precision_score, recall_score, f1_score\n",
    "from sklearn.neighbors import NearestNeighbors\n",
    "from tensorflow.keras.models import Sequential\n",
    "from tensorflow.keras.layers import LSTM, Dense, Dropout\n"
   ]
  },
  {
   "cell_type": "code",
   "execution_count": 40,
   "metadata": {},
   "outputs": [],
   "source": [
    "# Read in the events data\n",
    "Indicators = pd.read_csv('../Database/DataSources/Quarterly Public Sector Debt/QPSD.csv')\n",
    "#Indicators.head()"
   ]
  },
  {
   "cell_type": "code",
   "execution_count": 41,
   "metadata": {},
   "outputs": [
    {
     "data": {
      "text/plain": [
       "(59789, 16)"
      ]
     },
     "execution_count": 41,
     "metadata": {},
     "output_type": "execute_result"
    }
   ],
   "source": [
    "Indicators.shape"
   ]
  },
  {
   "cell_type": "code",
   "execution_count": 42,
   "metadata": {},
   "outputs": [
    {
     "data": {
      "text/plain": [
       "array(['Albania', 'Argentina', 'Armenia', 'Australia', 'Austria',\n",
       "       'Bangladesh', 'Barbados', 'Belgium', 'Bolivia',\n",
       "       'Bosnia and Herzegovina', 'Botswana', 'Brazil', 'Bulgaria',\n",
       "       'Burkina Faso', 'Cambodia', 'Canada', 'Chile', 'China', 'Colombia',\n",
       "       'Congo, Dem. Rep.', 'Costa Rica', \"Cote d'Ivoire\", 'Croatia',\n",
       "       'Cyprus', 'Czechia', 'Denmark', 'Dominican Republic',\n",
       "       'El Salvador', 'Estonia', 'Fiji', 'Finland', 'France', 'Georgia',\n",
       "       'Germany', 'Greece', 'Guatemala', 'Honduras', 'Hungary', 'Iceland',\n",
       "       'Indonesia', 'Ireland', 'Israel', 'Italy', 'Japan', 'Kazakhstan',\n",
       "       'Kenya', 'Korea, Rep.', 'Kosovo', 'Kyrgyz Republic', 'Latvia',\n",
       "       'Lebanon', 'Lesotho', 'Lithuania', 'Luxembourg', 'Madagascar',\n",
       "       'Malawi', 'Malaysia', 'Maldives', 'Malta', 'Mauritius', 'Mexico',\n",
       "       'Moldova', 'Mongolia', 'Morocco', 'Nepal', 'Netherlands',\n",
       "       'New Zealand', 'Nicaragua', 'Nigeria', 'North Macedonia', 'Norway',\n",
       "       'Pakistan', 'Papua New Guinea', 'Paraguay', 'Peru', 'Philippines',\n",
       "       'Poland', 'Portugal', 'Romania', 'Russian Federation', 'Rwanda',\n",
       "       'Saudi Arabia', 'Senegal', 'Serbia', 'Seychelles',\n",
       "       'Slovak Republic', 'Slovenia', 'Solomon Islands', 'South Africa',\n",
       "       'Spain', 'Sri Lanka', 'St. Lucia', 'Suriname', 'Sweden',\n",
       "       'Switzerland', 'Tajikistan', 'Tanzania', 'Thailand', 'Timor-Leste',\n",
       "       'Togo', 'Tonga', 'Turkiye', 'Uganda', 'United Kingdom',\n",
       "       'United States', 'Uruguay', nan,\n",
       "       'Data from database: Quarterly Public Sector Debt',\n",
       "       'Last Updated: 02/06/2025'], dtype=object)"
      ]
     },
     "execution_count": 42,
     "metadata": {},
     "output_type": "execute_result"
    }
   ],
   "source": [
    "Indicators['Country Name'].unique()"
   ]
  },
  {
   "cell_type": "code",
   "execution_count": 43,
   "metadata": {},
   "outputs": [
    {
     "data": {
      "text/plain": [
       "Index(['Country Name', 'Country Code', 'Series Name', 'Series Code',\n",
       "       '2021Q1 [YR2021Q1]', '2021Q2 [YR2021Q2]', '2021Q3 [YR2021Q3]',\n",
       "       '2021Q4 [YR2021Q4]', '2022Q1 [YR2022Q1]', '2022Q2 [YR2022Q2]',\n",
       "       '2022Q3 [YR2022Q3]', '2022Q4 [YR2022Q4]', '2023Q1 [YR2023Q1]',\n",
       "       '2023Q2 [YR2023Q2]', '2023Q3 [YR2023Q3]', '2023Q4 [YR2023Q4]'],\n",
       "      dtype='object')"
      ]
     },
     "execution_count": 43,
     "metadata": {},
     "output_type": "execute_result"
    }
   ],
   "source": [
    "Indicators.columns"
   ]
  },
  {
   "cell_type": "code",
   "execution_count": 44,
   "metadata": {},
   "outputs": [],
   "source": [
    "# Filter rows where 'ColumnName' contains any of the keywords\n",
    "keywords = [\"Gross PSD, Budgetary Central Gov., All maturities, All instruments, Nominal Value\",\n",
    "             \"Gross PSD, Budgetary Central Gov., Long-term, All instruments, Nominal Value\", \n",
    "             \"Gross PSD, Budgetary Central Gov., Short-term, All instruments, Nominal Value\",\n",
    "             \"Gross PSD, Budgetary Central Gov., All maturities, Debt securities + loans, Nominal Value\",\n",
    "             \"Gross PSD, Budgetary Central Gov., D1, D2, D3, and D4 categories\",\n",
    "             \"Gross PSD, General Gov., All maturities, All instruments, Nominal Value\",\n",
    "             \"Gross PSD, General Gov., Long-term and Short-term, All instruments, Nominal Value\",\n",
    "             \"Gross PSD, Central Gov., All maturities, All instruments, Nominal Value\",\n",
    "             \"Gross PSD, Financial Public Corp., All maturities, All instruments, Nominal Value\",\n",
    "             \"Gross PSD, Nonfinancial Public Corp., All maturities, All instruments, Nominal Value\",\n",
    "             \"Gross PSD, Public Sector, All maturities, All instruments, Nominal Value\",\n",
    "             \"Gross PSD, Total, All maturities, All instruments, Nominal Value\",\n",
    "             \"Gross PSD, Total, Long-term and Short-term, All instruments, Nominal Value\",\n",
    "             \"Gross PSD, Central Gov., D1, D2, D3, and D4 categories\", \"Gross PSD, Budgetary Central Gov., All maturities, All instruments, Nominal Value, % of GDP\",\n",
    "             \"Gross PSD, Budgetary Central Gov., Long-term and Short-term, All instruments, Nominal Value, % of GDP\", \n",
    "             \"Gross PSD, Budgetary Central Gov., All maturities, Debt securities + loans, Nominal Value, % of GDP\",\n",
    "             \"Gross PSD, General Gov., All maturities, All instruments, Nominal Value, % of GDP\",\n",
    "             \"Gross PSD, General Gov., Long-term and Short-term, All instruments, Nominal Value, % of GDP\",\n",
    "             \"Gross PSD, Central Gov., All maturities, All instruments, Nominal Value, % of GDP\",\n",
    "             \"Gross PSD, Financial Public Corp., All maturities, All instruments, Nominal Value, % of GDP\",\n",
    "             \"Gross PSD, Nonfinancial Public Corp., All maturities, All instruments, Nominal Value, % of GDP\",\n",
    "             \"Gross PSD, Public Sector, All maturities, All instruments, Nominal Value, % of GDP\",\n",
    "             \"Gross PSD, Total, All maturities, All instruments, Nominal Value, % of GDP\",\n",
    "             \"Gross PSD, Total, Long-term and Short-term, All instruments, Nominal Value, % of GDP\",\n",
    "             \"Gross PSD, Central Gov., D1, D2, D3, and D4 categories, Nominal Value, % of GDP\",\"Gross PSD, Budgetary Central Gov., All maturities, Debt securities, Market value, % of GDP\",\n",
    "             \"Gross PSD, General Gov., All maturities, Debt securities, Market value, % of GDP\", \n",
    "             \"Gross PSD, Central Gov., All maturities, Debt securities, Market value, % of GDP\",\n",
    "             \"Gross PSD, Financial Public Corp., All maturities, Debt Securities, Market value, % of GDP\",\n",
    "             \"Gross PSD, Nonfinancial Public Corp., All maturities, Debt Securities, Market value, % of GDP\",\n",
    "             \"Gross PSD, Public Sector, All maturities, Debt Securities, Market value, % of GDP\",\n",
    "             \"Gross PSD, Total, All maturities, Debt Securities, Market value, % of GDP\",\"Gross PSD, Budgetary Central Gov., All maturities, All instruments, External creditors, Nominal Value\",\n",
    "             \"Gross PSD, Budgetary Central Gov., All maturities, All instruments, Foreign currency, Nominal Value\", \n",
    "             \"Gross PSD, General Gov., All maturities, All instruments, External creditors, Nominal Value\",\n",
    "             \"Gross PSD, General Gov., All maturities, All instruments, Foreign currency, Nominal Value\",\n",
    "             \"Gross PSD, Central Gov., All maturities, All instruments, External creditors, Nominal Value\",\n",
    "             \"Gross PSD, Central Gov., All maturities, All instruments, Foreign currency, Nominal Value\",\n",
    "             \"Gross PSD, Financial Public Corp., All maturities, All instruments, External creditors, Nominal Value\",\n",
    "             \"Gross PSD, Financial Public Corp., All maturities, All instruments, Foreign currency, Nominal Value\",\n",
    "             \"Gross PSD, Nonfinancial Public Corp., All maturities, All instruments, External creditors, Nominal Value\",\n",
    "             \"Gross PSD, Nonfinancial Public Corp., All maturities, All instruments, Foreign currency, Nominal Value\",\n",
    "             \"Gross PSD, Public Sector, All maturities, All instruments, External creditors, Nominal Value\",\n",
    "             \"Gross PSD, Public Sector, All maturities, All instruments, Foreign currency, Nominal Value\",\n",
    "             \"Gross PSD, Total, All maturities, All instruments, External creditors, Nominal Value\",\n",
    "             \"Gross PSD, Total, All maturities, All instruments, Foreign currency, Nominal Value\"]  # Replace with actual keywords\n",
    "public_Debt_Indicators_df  = Indicators[Indicators['Series Name'].str.contains('|'.join(keywords), case=False, na=False)]\n"
   ]
  },
  {
   "cell_type": "code",
   "execution_count": 45,
   "metadata": {},
   "outputs": [
    {
     "data": {
      "text/plain": [
       "array(['Albania', 'Argentina', 'Armenia', 'Australia', 'Austria',\n",
       "       'Bangladesh', 'Barbados', 'Belgium', 'Bolivia',\n",
       "       'Bosnia and Herzegovina', 'Botswana', 'Brazil', 'Bulgaria',\n",
       "       'Burkina Faso', 'Cambodia', 'Canada', 'Chile', 'China', 'Colombia',\n",
       "       'Congo, Dem. Rep.', 'Costa Rica', \"Cote d'Ivoire\", 'Croatia',\n",
       "       'Cyprus', 'Czechia', 'Denmark', 'Dominican Republic',\n",
       "       'El Salvador', 'Estonia', 'Fiji', 'Finland', 'France', 'Georgia',\n",
       "       'Germany', 'Greece', 'Guatemala', 'Honduras', 'Hungary', 'Iceland',\n",
       "       'Indonesia', 'Ireland', 'Israel', 'Italy', 'Japan', 'Kazakhstan',\n",
       "       'Kenya', 'Korea, Rep.', 'Kosovo', 'Kyrgyz Republic', 'Latvia',\n",
       "       'Lebanon', 'Lesotho', 'Lithuania', 'Luxembourg', 'Madagascar',\n",
       "       'Malawi', 'Malaysia', 'Maldives', 'Malta', 'Mauritius', 'Mexico',\n",
       "       'Moldova', 'Mongolia', 'Morocco', 'Nepal', 'Netherlands',\n",
       "       'New Zealand', 'Nicaragua', 'Nigeria', 'North Macedonia', 'Norway',\n",
       "       'Pakistan', 'Papua New Guinea', 'Paraguay', 'Peru', 'Philippines',\n",
       "       'Poland', 'Portugal', 'Romania', 'Russian Federation', 'Rwanda',\n",
       "       'Saudi Arabia', 'Senegal', 'Serbia', 'Seychelles',\n",
       "       'Slovak Republic', 'Slovenia', 'Solomon Islands', 'South Africa',\n",
       "       'Spain', 'Sri Lanka', 'St. Lucia', 'Suriname', 'Sweden',\n",
       "       'Switzerland', 'Tajikistan', 'Tanzania', 'Thailand', 'Timor-Leste',\n",
       "       'Togo', 'Tonga', 'Turkiye', 'Uganda', 'United Kingdom',\n",
       "       'United States', 'Uruguay'], dtype=object)"
      ]
     },
     "execution_count": 45,
     "metadata": {},
     "output_type": "execute_result"
    }
   ],
   "source": [
    "#TotalGovernmentDebt_df.head(2)\n",
    "public_Debt_Indicators_df['Country Name'].unique()"
   ]
  },
  {
   "cell_type": "code",
   "execution_count": 46,
   "metadata": {},
   "outputs": [
    {
     "data": {
      "text/plain": [
       "(6572, 16)"
      ]
     },
     "execution_count": 46,
     "metadata": {},
     "output_type": "execute_result"
    }
   ],
   "source": [
    "public_Debt_Indicators_df.shape"
   ]
  },
  {
   "cell_type": "code",
   "execution_count": 47,
   "metadata": {},
   "outputs": [
    {
     "data": {
      "text/plain": [
       "Country Name         0\n",
       "Country Code         0\n",
       "Series Name          0\n",
       "Series Code          0\n",
       "2021Q1 [YR2021Q1]    0\n",
       "2021Q2 [YR2021Q2]    0\n",
       "2021Q3 [YR2021Q3]    0\n",
       "2021Q4 [YR2021Q4]    0\n",
       "2022Q1 [YR2022Q1]    0\n",
       "2022Q2 [YR2022Q2]    0\n",
       "2022Q3 [YR2022Q3]    0\n",
       "2022Q4 [YR2022Q4]    0\n",
       "2023Q1 [YR2023Q1]    0\n",
       "2023Q2 [YR2023Q2]    0\n",
       "2023Q3 [YR2023Q3]    0\n",
       "2023Q4 [YR2023Q4]    0\n",
       "dtype: int64"
      ]
     },
     "execution_count": 47,
     "metadata": {},
     "output_type": "execute_result"
    }
   ],
   "source": [
    "public_Debt_Indicators_df.isnull().sum()"
   ]
  },
  {
   "cell_type": "code",
   "execution_count": 48,
   "metadata": {},
   "outputs": [
    {
     "data": {
      "text/plain": [
       "Country Name         object\n",
       "Country Code         object\n",
       "Series Name          object\n",
       "Series Code          object\n",
       "2021Q1 [YR2021Q1]    object\n",
       "2021Q2 [YR2021Q2]    object\n",
       "2021Q3 [YR2021Q3]    object\n",
       "2021Q4 [YR2021Q4]    object\n",
       "2022Q1 [YR2022Q1]    object\n",
       "2022Q2 [YR2022Q2]    object\n",
       "2022Q3 [YR2022Q3]    object\n",
       "2022Q4 [YR2022Q4]    object\n",
       "2023Q1 [YR2023Q1]    object\n",
       "2023Q2 [YR2023Q2]    object\n",
       "2023Q3 [YR2023Q3]    object\n",
       "2023Q4 [YR2023Q4]    object\n",
       "dtype: object"
      ]
     },
     "execution_count": 48,
     "metadata": {},
     "output_type": "execute_result"
    }
   ],
   "source": [
    "public_Debt_Indicators_df.dtypes"
   ]
  },
  {
   "cell_type": "code",
   "execution_count": null,
   "metadata": {},
   "outputs": [],
   "source": [
    "# Save result\n",
    "public_Debt_Indicators_df.to_csv(\"Public_Debt_Indicators.csv\", index=False)"
   ]
  },
  {
   "cell_type": "code",
   "execution_count": 50,
   "metadata": {},
   "outputs": [],
   "source": [
    "df=pd.read_csv('../WEEK 3/Indicators/Public_Debt_Indicators.csv')"
   ]
  },
  {
   "cell_type": "code",
   "execution_count": 51,
   "metadata": {},
   "outputs": [
    {
     "data": {
      "text/plain": [
       "Index(['Country Name', 'Country Code', 'Series Name', 'Series Code',\n",
       "       '2021Q1 [YR2021Q1]', '2021Q2 [YR2021Q2]', '2021Q3 [YR2021Q3]',\n",
       "       '2021Q4 [YR2021Q4]', '2022Q1 [YR2022Q1]', '2022Q2 [YR2022Q2]',\n",
       "       '2022Q3 [YR2022Q3]', '2022Q4 [YR2022Q4]', '2023Q1 [YR2023Q1]',\n",
       "       '2023Q2 [YR2023Q2]', '2023Q3 [YR2023Q3]', '2023Q4 [YR2023Q4]'],\n",
       "      dtype='object')"
      ]
     },
     "execution_count": 51,
     "metadata": {},
     "output_type": "execute_result"
    }
   ],
   "source": [
    "df.columns"
   ]
  },
  {
   "cell_type": "code",
   "execution_count": null,
   "metadata": {},
   "outputs": [],
   "source": [
    "# converting series name into column \n",
    "\n",
    "# Ensure the format keeps Country_Name, Country_Code, and Time as columns\n",
    "df_pivot = df.pivot(index=['Country Name', 'Country Code', '2021Q1 [YR2021Q1]', '2021Q2 [YR2021Q2]', '2021Q3 [YR2021Q3]',\n",
    "       '2021Q4 [YR2021Q4]', '2022Q1 [YR2022Q1]', '2022Q2 [YR2022Q2]',\n",
    "       '2022Q3 [YR2022Q3]', '2022Q4 [YR2022Q4]', '2023Q1 [YR2023Q1]',\n",
    "       '2023Q2 [YR2023Q2]', '2023Q3 [YR2023Q3]', '2023Q4 [YR2023Q4]'], \n",
    "                    columns='Series Name', values='Value').reset_index()\n",
    "\n",
    "\n"
   ]
  },
  {
   "cell_type": "code",
   "execution_count": 58,
   "metadata": {},
   "outputs": [],
   "source": [
    "\n",
    "# Melt: Convert quarter-based values into a single column\n",
    "df_melted = df.melt(id_vars=[\"Country Name\", \"Country Code\", \"Series Name\", \"Series Code\"], \n",
    "                     var_name=\"Time\", value_name=\"Value\")\n",
    "\n"
   ]
  },
  {
   "cell_type": "code",
   "execution_count": 59,
   "metadata": {},
   "outputs": [],
   "source": [
    "\n",
    "# Extract proper year/quarter format\n",
    "df_melted[\"Time\"] = df_melted[\"Time\"].str.extract(r\"(\\d{4}Q\\d)\")\n"
   ]
  },
  {
   "cell_type": "code",
   "execution_count": null,
   "metadata": {},
   "outputs": [],
   "source": [
    "\n",
    "# Pivot: Convert 'Series Name' into columns and assign values correctly\n",
    "df_pivot = df_melted.pivot(index=[\"Country Name\", \"Country Code\", \"Time\"], \n",
    "                           columns=\"Series Name\", values=\"Value\").reset_index()\n",
    "\n",
    "\n"
   ]
  },
  {
   "cell_type": "code",
   "execution_count": 61,
   "metadata": {},
   "outputs": [
    {
     "data": {
      "text/html": [
       "<div>\n",
       "<style scoped>\n",
       "    .dataframe tbody tr th:only-of-type {\n",
       "        vertical-align: middle;\n",
       "    }\n",
       "\n",
       "    .dataframe tbody tr th {\n",
       "        vertical-align: top;\n",
       "    }\n",
       "\n",
       "    .dataframe thead th {\n",
       "        text-align: right;\n",
       "    }\n",
       "</style>\n",
       "<table border=\"1\" class=\"dataframe\">\n",
       "  <thead>\n",
       "    <tr style=\"text-align: right;\">\n",
       "      <th>Series Name</th>\n",
       "      <th>Country Name</th>\n",
       "      <th>Country Code</th>\n",
       "      <th>Time</th>\n",
       "      <th>Gross PSD, Budgetary Central Gov., All maturities, All instruments, External creditors, Nominal Value, % of GDP</th>\n",
       "      <th>Gross PSD, Budgetary Central Gov., All maturities, All instruments, External creditors, Nominal Value, National Currency</th>\n",
       "      <th>Gross PSD, Budgetary Central Gov., All maturities, All instruments, External creditors, Nominal Value, US$</th>\n",
       "      <th>Gross PSD, Budgetary Central Gov., All maturities, All instruments, Foreign currency, Nominal Value, % of GDP</th>\n",
       "      <th>Gross PSD, Budgetary Central Gov., All maturities, All instruments, Foreign currency, Nominal Value, National Currency</th>\n",
       "      <th>Gross PSD, Budgetary Central Gov., All maturities, All instruments, Foreign currency, Nominal Value, US$</th>\n",
       "      <th>Gross PSD, Budgetary Central Gov., All maturities, All instruments, Nominal Value, % of GDP</th>\n",
       "      <th>...</th>\n",
       "      <th>Gross PSD, Nonfinancial Public Corp., All maturities, All instruments, Nominal Value, % of GDP</th>\n",
       "      <th>Gross PSD, Nonfinancial Public Corp., All maturities, All instruments, Nominal Value, National Currency</th>\n",
       "      <th>Gross PSD, Nonfinancial Public Corp., All maturities, All instruments, Nominal Value, US$</th>\n",
       "      <th>Gross PSD, Nonfinancial Public Corp., All maturities, Debt Securities, Market value, % of GDP</th>\n",
       "      <th>Gross PSD, Public Sector, All maturities, All instruments, External creditors, Nominal Value, National Currency</th>\n",
       "      <th>Gross PSD, Public Sector, All maturities, All instruments, Foreign currency, Nominal Value, National Currency</th>\n",
       "      <th>Gross PSD, Public Sector, All maturities, All instruments, Nominal Value, National Currency</th>\n",
       "      <th>Gross PSD, Total, All maturities, All instruments, External creditors, Nominal Value, US$</th>\n",
       "      <th>Gross PSD, Total, All maturities, All instruments, Foreign currency, Nominal Value, US$</th>\n",
       "      <th>Gross PSD, Total, All maturities, All instruments, Nominal Value, US$</th>\n",
       "    </tr>\n",
       "  </thead>\n",
       "  <tbody>\n",
       "    <tr>\n",
       "      <th>0</th>\n",
       "      <td>Albania</td>\n",
       "      <td>ALB</td>\n",
       "      <td>2021Q1</td>\n",
       "      <td>..</td>\n",
       "      <td>..</td>\n",
       "      <td>..</td>\n",
       "      <td>..</td>\n",
       "      <td>..</td>\n",
       "      <td>..</td>\n",
       "      <td>..</td>\n",
       "      <td>...</td>\n",
       "      <td>..</td>\n",
       "      <td>..</td>\n",
       "      <td>..</td>\n",
       "      <td>..</td>\n",
       "      <td>531257123584.814</td>\n",
       "      <td>722793174141.008</td>\n",
       "      <td>1703280043413.86</td>\n",
       "      <td>5063932166.47425</td>\n",
       "      <td>6889649929.85424</td>\n",
       "      <td>16235630954.2833</td>\n",
       "    </tr>\n",
       "    <tr>\n",
       "      <th>1</th>\n",
       "      <td>Albania</td>\n",
       "      <td>ALB</td>\n",
       "      <td>2021Q2</td>\n",
       "      <td>..</td>\n",
       "      <td>..</td>\n",
       "      <td>..</td>\n",
       "      <td>..</td>\n",
       "      <td>..</td>\n",
       "      <td>..</td>\n",
       "      <td>..</td>\n",
       "      <td>...</td>\n",
       "      <td>..</td>\n",
       "      <td>..</td>\n",
       "      <td>..</td>\n",
       "      <td>..</td>\n",
       "      <td>519151667435.039</td>\n",
       "      <td>692971928813.674</td>\n",
       "      <td>1690269527643.36</td>\n",
       "      <td>5035418694.81124</td>\n",
       "      <td>6721357214.48762</td>\n",
       "      <td>16394466805.4642</td>\n",
       "    </tr>\n",
       "    <tr>\n",
       "      <th>2</th>\n",
       "      <td>Albania</td>\n",
       "      <td>ALB</td>\n",
       "      <td>2021Q3</td>\n",
       "      <td>..</td>\n",
       "      <td>..</td>\n",
       "      <td>..</td>\n",
       "      <td>..</td>\n",
       "      <td>..</td>\n",
       "      <td>..</td>\n",
       "      <td>..</td>\n",
       "      <td>...</td>\n",
       "      <td>..</td>\n",
       "      <td>..</td>\n",
       "      <td>..</td>\n",
       "      <td>..</td>\n",
       "      <td>530065825513.531</td>\n",
       "      <td>718310141143.752</td>\n",
       "      <td>1733367872581.04</td>\n",
       "      <td>5058362682.637</td>\n",
       "      <td>6854758480.2343</td>\n",
       "      <td>16541348149.4517</td>\n",
       "    </tr>\n",
       "    <tr>\n",
       "      <th>3</th>\n",
       "      <td>Albania</td>\n",
       "      <td>ALB</td>\n",
       "      <td>2021Q4</td>\n",
       "      <td>..</td>\n",
       "      <td>..</td>\n",
       "      <td>..</td>\n",
       "      <td>..</td>\n",
       "      <td>..</td>\n",
       "      <td>..</td>\n",
       "      <td>..</td>\n",
       "      <td>...</td>\n",
       "      <td>..</td>\n",
       "      <td>..</td>\n",
       "      <td>..</td>\n",
       "      <td>..</td>\n",
       "      <td>611719403332.739</td>\n",
       "      <td>888955963471.537</td>\n",
       "      <td>1911645190276.31</td>\n",
       "      <td>5741687660.34108</td>\n",
       "      <td>8343870503.76888</td>\n",
       "      <td>17942980948.717</td>\n",
       "    </tr>\n",
       "    <tr>\n",
       "      <th>4</th>\n",
       "      <td>Albania</td>\n",
       "      <td>ALB</td>\n",
       "      <td>2022Q1</td>\n",
       "      <td>..</td>\n",
       "      <td>..</td>\n",
       "      <td>..</td>\n",
       "      <td>..</td>\n",
       "      <td>..</td>\n",
       "      <td>..</td>\n",
       "      <td>..</td>\n",
       "      <td>...</td>\n",
       "      <td>..</td>\n",
       "      <td>..</td>\n",
       "      <td>..</td>\n",
       "      <td>..</td>\n",
       "      <td>610534312675.763</td>\n",
       "      <td>893394172679.381</td>\n",
       "      <td>1912366924689.04</td>\n",
       "      <td>5586880606.4766</td>\n",
       "      <td>8175276104.31352</td>\n",
       "      <td>17499697334.2701</td>\n",
       "    </tr>\n",
       "  </tbody>\n",
       "</table>\n",
       "<p>5 rows × 65 columns</p>\n",
       "</div>"
      ],
      "text/plain": [
       "Series Name Country Name Country Code    Time  \\\n",
       "0                Albania          ALB  2021Q1   \n",
       "1                Albania          ALB  2021Q2   \n",
       "2                Albania          ALB  2021Q3   \n",
       "3                Albania          ALB  2021Q4   \n",
       "4                Albania          ALB  2022Q1   \n",
       "\n",
       "Series Name Gross PSD, Budgetary Central Gov., All maturities, All instruments, External creditors, Nominal Value, % of GDP  \\\n",
       "0                                                           ..                                                                \n",
       "1                                                           ..                                                                \n",
       "2                                                           ..                                                                \n",
       "3                                                           ..                                                                \n",
       "4                                                           ..                                                                \n",
       "\n",
       "Series Name Gross PSD, Budgetary Central Gov., All maturities, All instruments, External creditors, Nominal Value, National Currency  \\\n",
       "0                                                           ..                                                                         \n",
       "1                                                           ..                                                                         \n",
       "2                                                           ..                                                                         \n",
       "3                                                           ..                                                                         \n",
       "4                                                           ..                                                                         \n",
       "\n",
       "Series Name Gross PSD, Budgetary Central Gov., All maturities, All instruments, External creditors, Nominal Value, US$  \\\n",
       "0                                                           ..                                                           \n",
       "1                                                           ..                                                           \n",
       "2                                                           ..                                                           \n",
       "3                                                           ..                                                           \n",
       "4                                                           ..                                                           \n",
       "\n",
       "Series Name Gross PSD, Budgetary Central Gov., All maturities, All instruments, Foreign currency, Nominal Value, % of GDP  \\\n",
       "0                                                           ..                                                              \n",
       "1                                                           ..                                                              \n",
       "2                                                           ..                                                              \n",
       "3                                                           ..                                                              \n",
       "4                                                           ..                                                              \n",
       "\n",
       "Series Name Gross PSD, Budgetary Central Gov., All maturities, All instruments, Foreign currency, Nominal Value, National Currency  \\\n",
       "0                                                           ..                                                                       \n",
       "1                                                           ..                                                                       \n",
       "2                                                           ..                                                                       \n",
       "3                                                           ..                                                                       \n",
       "4                                                           ..                                                                       \n",
       "\n",
       "Series Name Gross PSD, Budgetary Central Gov., All maturities, All instruments, Foreign currency, Nominal Value, US$  \\\n",
       "0                                                           ..                                                         \n",
       "1                                                           ..                                                         \n",
       "2                                                           ..                                                         \n",
       "3                                                           ..                                                         \n",
       "4                                                           ..                                                         \n",
       "\n",
       "Series Name Gross PSD, Budgetary Central Gov., All maturities, All instruments, Nominal Value, % of GDP  \\\n",
       "0                                                           ..                                            \n",
       "1                                                           ..                                            \n",
       "2                                                           ..                                            \n",
       "3                                                           ..                                            \n",
       "4                                                           ..                                            \n",
       "\n",
       "Series Name  ...  \\\n",
       "0            ...   \n",
       "1            ...   \n",
       "2            ...   \n",
       "3            ...   \n",
       "4            ...   \n",
       "\n",
       "Series Name Gross PSD, Nonfinancial Public Corp., All maturities, All instruments, Nominal Value, % of GDP  \\\n",
       "0                                                           ..                                               \n",
       "1                                                           ..                                               \n",
       "2                                                           ..                                               \n",
       "3                                                           ..                                               \n",
       "4                                                           ..                                               \n",
       "\n",
       "Series Name Gross PSD, Nonfinancial Public Corp., All maturities, All instruments, Nominal Value, National Currency  \\\n",
       "0                                                           ..                                                        \n",
       "1                                                           ..                                                        \n",
       "2                                                           ..                                                        \n",
       "3                                                           ..                                                        \n",
       "4                                                           ..                                                        \n",
       "\n",
       "Series Name Gross PSD, Nonfinancial Public Corp., All maturities, All instruments, Nominal Value, US$  \\\n",
       "0                                                           ..                                          \n",
       "1                                                           ..                                          \n",
       "2                                                           ..                                          \n",
       "3                                                           ..                                          \n",
       "4                                                           ..                                          \n",
       "\n",
       "Series Name Gross PSD, Nonfinancial Public Corp., All maturities, Debt Securities, Market value, % of GDP  \\\n",
       "0                                                           ..                                              \n",
       "1                                                           ..                                              \n",
       "2                                                           ..                                              \n",
       "3                                                           ..                                              \n",
       "4                                                           ..                                              \n",
       "\n",
       "Series Name Gross PSD, Public Sector, All maturities, All instruments, External creditors, Nominal Value, National Currency  \\\n",
       "0                                             531257123584.814                                                                \n",
       "1                                             519151667435.039                                                                \n",
       "2                                             530065825513.531                                                                \n",
       "3                                             611719403332.739                                                                \n",
       "4                                             610534312675.763                                                                \n",
       "\n",
       "Series Name Gross PSD, Public Sector, All maturities, All instruments, Foreign currency, Nominal Value, National Currency  \\\n",
       "0                                             722793174141.008                                                              \n",
       "1                                             692971928813.674                                                              \n",
       "2                                             718310141143.752                                                              \n",
       "3                                             888955963471.537                                                              \n",
       "4                                             893394172679.381                                                              \n",
       "\n",
       "Series Name Gross PSD, Public Sector, All maturities, All instruments, Nominal Value, National Currency  \\\n",
       "0                                             1703280043413.86                                            \n",
       "1                                             1690269527643.36                                            \n",
       "2                                             1733367872581.04                                            \n",
       "3                                             1911645190276.31                                            \n",
       "4                                             1912366924689.04                                            \n",
       "\n",
       "Series Name Gross PSD, Total, All maturities, All instruments, External creditors, Nominal Value, US$  \\\n",
       "0                                             5063932166.47425                                          \n",
       "1                                             5035418694.81124                                          \n",
       "2                                               5058362682.637                                          \n",
       "3                                             5741687660.34108                                          \n",
       "4                                              5586880606.4766                                          \n",
       "\n",
       "Series Name Gross PSD, Total, All maturities, All instruments, Foreign currency, Nominal Value, US$  \\\n",
       "0                                             6889649929.85424                                        \n",
       "1                                             6721357214.48762                                        \n",
       "2                                              6854758480.2343                                        \n",
       "3                                             8343870503.76888                                        \n",
       "4                                             8175276104.31352                                        \n",
       "\n",
       "Series Name Gross PSD, Total, All maturities, All instruments, Nominal Value, US$  \n",
       "0                                             16235630954.2833                     \n",
       "1                                             16394466805.4642                     \n",
       "2                                             16541348149.4517                     \n",
       "3                                              17942980948.717                     \n",
       "4                                             17499697334.2701                     \n",
       "\n",
       "[5 rows x 65 columns]"
      ]
     },
     "execution_count": 61,
     "metadata": {},
     "output_type": "execute_result"
    }
   ],
   "source": [
    "df_pivot.head(5)"
   ]
  },
  {
   "cell_type": "code",
   "execution_count": 62,
   "metadata": {},
   "outputs": [
    {
     "data": {
      "text/plain": [
       "(1272, 65)"
      ]
     },
     "execution_count": 62,
     "metadata": {},
     "output_type": "execute_result"
    }
   ],
   "source": [
    "df_pivot.shape"
   ]
  },
  {
   "cell_type": "code",
   "execution_count": 66,
   "metadata": {},
   "outputs": [
    {
     "data": {
      "text/plain": [
       "12"
      ]
     },
     "execution_count": 66,
     "metadata": {},
     "output_type": "execute_result"
    }
   ],
   "source": [
    "df_pivot['Time'].nunique()"
   ]
  },
  {
   "cell_type": "code",
   "execution_count": 67,
   "metadata": {},
   "outputs": [],
   "source": [
    "# Save the formatted output\n",
    "df_pivot.to_csv(\"Public Debt Indicators.csv\", index=False)"
   ]
  },
  {
   "cell_type": "code",
   "execution_count": null,
   "metadata": {},
   "outputs": [],
   "source": [
    "\n",
    "# Extract year from the 'Time' column\n",
    "df_pivot[\"Year\"] = df_pivot[\"Time\"].str.extract(r\"(\\d{4})\")\n",
    "\n",
    "# Drop the original 'Time' column\n",
    "df_pivot = df_pivot.drop(columns=[\"Time\"])\n",
    "\n",
    "# Group by 'Country Name', 'Country Code', and 'Year' to aggregate quarterly data\n",
    "QPSD = df_pivot.groupby([\"Country Name\", \"Country Code\", \"Year\"], as_index=False).sum()\n",
    "\n",
    "# Save the final output\n",
    "QPSD.to_csv(\"Public_Debt_Indicators (QPSD).csv\", index=False)\n"
   ]
  }
 ],
 "metadata": {
  "kernelspec": {
   "display_name": "base",
   "language": "python",
   "name": "python3"
  },
  "language_info": {
   "codemirror_mode": {
    "name": "ipython",
    "version": 3
   },
   "file_extension": ".py",
   "mimetype": "text/x-python",
   "name": "python",
   "nbconvert_exporter": "python",
   "pygments_lexer": "ipython3",
   "version": "3.11.5"
  }
 },
 "nbformat": 4,
 "nbformat_minor": 2
}
