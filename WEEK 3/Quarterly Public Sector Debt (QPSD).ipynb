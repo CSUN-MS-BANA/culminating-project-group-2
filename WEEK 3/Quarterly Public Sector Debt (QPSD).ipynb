{
 "cells": [
  {
   "cell_type": "code",
   "execution_count": 38,
   "metadata": {},
   "outputs": [],
   "source": [
    "# importing libaries\n",
    "import numpy as np\n",
    "import pandas as pd\n",
    "import matplotlib.pyplot as plt\n",
    "import seaborn as sns\n",
    "%matplotlib inline\n",
    "import os\n",
    "import glob\n",
    "from sklearn.model_selection import train_test_split\n",
    "from sklearn.preprocessing import StandardScaler\n",
    "from sklearn.linear_model import LogisticRegression\n",
    "from sklearn.metrics import accuracy_score, classification_report, confusion_matrix, roc_auc_score\n",
    "from sklearn.tree import DecisionTreeClassifier\n",
    "from sklearn.metrics import accuracy_score, precision_score, recall_score, f1_score\n",
    "from sklearn.neighbors import NearestNeighbors\n",
    "from tensorflow.keras.models import Sequential\n",
    "from tensorflow.keras.layers import LSTM, Dense, Dropout\n"
   ]
  },
  {
   "cell_type": "code",
   "execution_count": 40,
   "metadata": {},
   "outputs": [],
   "source": [
    "# Read in the events data\n",
    "Indicators = pd.read_csv('../Database/DataSources/Quarterly Public Sector Debt/QPSD.csv')\n",
    "#Indicators.head()"
   ]
  },
  {
   "cell_type": "code",
   "execution_count": 41,
   "metadata": {},
   "outputs": [
    {
     "data": {
      "text/plain": [
       "(59789, 16)"
      ]
     },
     "execution_count": 41,
     "metadata": {},
     "output_type": "execute_result"
    }
   ],
   "source": [
    "Indicators.shape"
   ]
  },
  {
   "cell_type": "code",
   "execution_count": 42,
   "metadata": {},
   "outputs": [
    {
     "data": {
      "text/plain": [
       "array(['Albania', 'Argentina', 'Armenia', 'Australia', 'Austria',\n",
       "       'Bangladesh', 'Barbados', 'Belgium', 'Bolivia',\n",
       "       'Bosnia and Herzegovina', 'Botswana', 'Brazil', 'Bulgaria',\n",
       "       'Burkina Faso', 'Cambodia', 'Canada', 'Chile', 'China', 'Colombia',\n",
       "       'Congo, Dem. Rep.', 'Costa Rica', \"Cote d'Ivoire\", 'Croatia',\n",
       "       'Cyprus', 'Czechia', 'Denmark', 'Dominican Republic',\n",
       "       'El Salvador', 'Estonia', 'Fiji', 'Finland', 'France', 'Georgia',\n",
       "       'Germany', 'Greece', 'Guatemala', 'Honduras', 'Hungary', 'Iceland',\n",
       "       'Indonesia', 'Ireland', 'Israel', 'Italy', 'Japan', 'Kazakhstan',\n",
       "       'Kenya', 'Korea, Rep.', 'Kosovo', 'Kyrgyz Republic', 'Latvia',\n",
       "       'Lebanon', 'Lesotho', 'Lithuania', 'Luxembourg', 'Madagascar',\n",
       "       'Malawi', 'Malaysia', 'Maldives', 'Malta', 'Mauritius', 'Mexico',\n",
       "       'Moldova', 'Mongolia', 'Morocco', 'Nepal', 'Netherlands',\n",
       "       'New Zealand', 'Nicaragua', 'Nigeria', 'North Macedonia', 'Norway',\n",
       "       'Pakistan', 'Papua New Guinea', 'Paraguay', 'Peru', 'Philippines',\n",
       "       'Poland', 'Portugal', 'Romania', 'Russian Federation', 'Rwanda',\n",
       "       'Saudi Arabia', 'Senegal', 'Serbia', 'Seychelles',\n",
       "       'Slovak Republic', 'Slovenia', 'Solomon Islands', 'South Africa',\n",
       "       'Spain', 'Sri Lanka', 'St. Lucia', 'Suriname', 'Sweden',\n",
       "       'Switzerland', 'Tajikistan', 'Tanzania', 'Thailand', 'Timor-Leste',\n",
       "       'Togo', 'Tonga', 'Turkiye', 'Uganda', 'United Kingdom',\n",
       "       'United States', 'Uruguay', nan,\n",
       "       'Data from database: Quarterly Public Sector Debt',\n",
       "       'Last Updated: 02/06/2025'], dtype=object)"
      ]
     },
     "execution_count": 42,
     "metadata": {},
     "output_type": "execute_result"
    }
   ],
   "source": [
    "Indicators['Country Name'].unique()"
   ]
  },
  {
   "cell_type": "code",
   "execution_count": 43,
   "metadata": {},
   "outputs": [
    {
     "data": {
      "text/plain": [
       "Index(['Country Name', 'Country Code', 'Series Name', 'Series Code',\n",
       "       '2021Q1 [YR2021Q1]', '2021Q2 [YR2021Q2]', '2021Q3 [YR2021Q3]',\n",
       "       '2021Q4 [YR2021Q4]', '2022Q1 [YR2022Q1]', '2022Q2 [YR2022Q2]',\n",
       "       '2022Q3 [YR2022Q3]', '2022Q4 [YR2022Q4]', '2023Q1 [YR2023Q1]',\n",
       "       '2023Q2 [YR2023Q2]', '2023Q3 [YR2023Q3]', '2023Q4 [YR2023Q4]'],\n",
       "      dtype='object')"
      ]
     },
     "execution_count": 43,
     "metadata": {},
     "output_type": "execute_result"
    }
   ],
   "source": [
    "Indicators.columns"
   ]
  },
  {
   "cell_type": "code",
   "execution_count": 44,
   "metadata": {},
   "outputs": [],
   "source": [
    "# Filter rows where 'ColumnName' contains any of the keywords\n",
    "keywords = [\"Gross PSD, Budgetary Central Gov., All maturities, All instruments, Nominal Value\",\n",
    "             \"Gross PSD, Budgetary Central Gov., Long-term, All instruments, Nominal Value\", \n",
    "             \"Gross PSD, Budgetary Central Gov., Short-term, All instruments, Nominal Value\",\n",
    "             \"Gross PSD, Budgetary Central Gov., All maturities, Debt securities + loans, Nominal Value\",\n",
    "             \"Gross PSD, Budgetary Central Gov., D1, D2, D3, and D4 categories\",\n",
    "             \"Gross PSD, General Gov., All maturities, All instruments, Nominal Value\",\n",
    "             \"Gross PSD, General Gov., Long-term and Short-term, All instruments, Nominal Value\",\n",
    "             \"Gross PSD, Central Gov., All maturities, All instruments, Nominal Value\",\n",
    "             \"Gross PSD, Financial Public Corp., All maturities, All instruments, Nominal Value\",\n",
    "             \"Gross PSD, Nonfinancial Public Corp., All maturities, All instruments, Nominal Value\",\n",
    "             \"Gross PSD, Public Sector, All maturities, All instruments, Nominal Value\",\n",
    "             \"Gross PSD, Total, All maturities, All instruments, Nominal Value\",\n",
    "             \"Gross PSD, Total, Long-term and Short-term, All instruments, Nominal Value\",\n",
    "             \"Gross PSD, Central Gov., D1, D2, D3, and D4 categories\", \"Gross PSD, Budgetary Central Gov., All maturities, All instruments, Nominal Value, % of GDP\",\n",
    "             \"Gross PSD, Budgetary Central Gov., Long-term and Short-term, All instruments, Nominal Value, % of GDP\", \n",
    "             \"Gross PSD, Budgetary Central Gov., All maturities, Debt securities + loans, Nominal Value, % of GDP\",\n",
    "             \"Gross PSD, General Gov., All maturities, All instruments, Nominal Value, % of GDP\",\n",
    "             \"Gross PSD, General Gov., Long-term and Short-term, All instruments, Nominal Value, % of GDP\",\n",
    "             \"Gross PSD, Central Gov., All maturities, All instruments, Nominal Value, % of GDP\",\n",
    "             \"Gross PSD, Financial Public Corp., All maturities, All instruments, Nominal Value, % of GDP\",\n",
    "             \"Gross PSD, Nonfinancial Public Corp., All maturities, All instruments, Nominal Value, % of GDP\",\n",
    "             \"Gross PSD, Public Sector, All maturities, All instruments, Nominal Value, % of GDP\",\n",
    "             \"Gross PSD, Total, All maturities, All instruments, Nominal Value, % of GDP\",\n",
    "             \"Gross PSD, Total, Long-term and Short-term, All instruments, Nominal Value, % of GDP\",\n",
    "             \"Gross PSD, Central Gov., D1, D2, D3, and D4 categories, Nominal Value, % of GDP\",\"Gross PSD, Budgetary Central Gov., All maturities, Debt securities, Market value, % of GDP\",\n",
    "             \"Gross PSD, General Gov., All maturities, Debt securities, Market value, % of GDP\", \n",
    "             \"Gross PSD, Central Gov., All maturities, Debt securities, Market value, % of GDP\",\n",
    "             \"Gross PSD, Financial Public Corp., All maturities, Debt Securities, Market value, % of GDP\",\n",
    "             \"Gross PSD, Nonfinancial Public Corp., All maturities, Debt Securities, Market value, % of GDP\",\n",
    "             \"Gross PSD, Public Sector, All maturities, Debt Securities, Market value, % of GDP\",\n",
    "             \"Gross PSD, Total, All maturities, Debt Securities, Market value, % of GDP\",\"Gross PSD, Budgetary Central Gov., All maturities, All instruments, External creditors, Nominal Value\",\n",
    "             \"Gross PSD, Budgetary Central Gov., All maturities, All instruments, Foreign currency, Nominal Value\", \n",
    "             \"Gross PSD, General Gov., All maturities, All instruments, External creditors, Nominal Value\",\n",
    "             \"Gross PSD, General Gov., All maturities, All instruments, Foreign currency, Nominal Value\",\n",
    "             \"Gross PSD, Central Gov., All maturities, All instruments, External creditors, Nominal Value\",\n",
    "             \"Gross PSD, Central Gov., All maturities, All instruments, Foreign currency, Nominal Value\",\n",
    "             \"Gross PSD, Financial Public Corp., All maturities, All instruments, External creditors, Nominal Value\",\n",
    "             \"Gross PSD, Financial Public Corp., All maturities, All instruments, Foreign currency, Nominal Value\",\n",
    "             \"Gross PSD, Nonfinancial Public Corp., All maturities, All instruments, External creditors, Nominal Value\",\n",
    "             \"Gross PSD, Nonfinancial Public Corp., All maturities, All instruments, Foreign currency, Nominal Value\",\n",
    "             \"Gross PSD, Public Sector, All maturities, All instruments, External creditors, Nominal Value\",\n",
    "             \"Gross PSD, Public Sector, All maturities, All instruments, Foreign currency, Nominal Value\",\n",
    "             \"Gross PSD, Total, All maturities, All instruments, External creditors, Nominal Value\",\n",
    "             \"Gross PSD, Total, All maturities, All instruments, Foreign currency, Nominal Value\"]  # Replace with actual keywords\n",
    "public_Debt_Indicators_df  = Indicators[Indicators['Series Name'].str.contains('|'.join(keywords), case=False, na=False)]\n"
   ]
  },
  {
   "cell_type": "code",
   "execution_count": 45,
   "metadata": {},
   "outputs": [
    {
     "data": {
      "text/plain": [
       "array(['Albania', 'Argentina', 'Armenia', 'Australia', 'Austria',\n",
       "       'Bangladesh', 'Barbados', 'Belgium', 'Bolivia',\n",
       "       'Bosnia and Herzegovina', 'Botswana', 'Brazil', 'Bulgaria',\n",
       "       'Burkina Faso', 'Cambodia', 'Canada', 'Chile', 'China', 'Colombia',\n",
       "       'Congo, Dem. Rep.', 'Costa Rica', \"Cote d'Ivoire\", 'Croatia',\n",
       "       'Cyprus', 'Czechia', 'Denmark', 'Dominican Republic',\n",
       "       'El Salvador', 'Estonia', 'Fiji', 'Finland', 'France', 'Georgia',\n",
       "       'Germany', 'Greece', 'Guatemala', 'Honduras', 'Hungary', 'Iceland',\n",
       "       'Indonesia', 'Ireland', 'Israel', 'Italy', 'Japan', 'Kazakhstan',\n",
       "       'Kenya', 'Korea, Rep.', 'Kosovo', 'Kyrgyz Republic', 'Latvia',\n",
       "       'Lebanon', 'Lesotho', 'Lithuania', 'Luxembourg', 'Madagascar',\n",
       "       'Malawi', 'Malaysia', 'Maldives', 'Malta', 'Mauritius', 'Mexico',\n",
       "       'Moldova', 'Mongolia', 'Morocco', 'Nepal', 'Netherlands',\n",
       "       'New Zealand', 'Nicaragua', 'Nigeria', 'North Macedonia', 'Norway',\n",
       "       'Pakistan', 'Papua New Guinea', 'Paraguay', 'Peru', 'Philippines',\n",
       "       'Poland', 'Portugal', 'Romania', 'Russian Federation', 'Rwanda',\n",
       "       'Saudi Arabia', 'Senegal', 'Serbia', 'Seychelles',\n",
       "       'Slovak Republic', 'Slovenia', 'Solomon Islands', 'South Africa',\n",
       "       'Spain', 'Sri Lanka', 'St. Lucia', 'Suriname', 'Sweden',\n",
       "       'Switzerland', 'Tajikistan', 'Tanzania', 'Thailand', 'Timor-Leste',\n",
       "       'Togo', 'Tonga', 'Turkiye', 'Uganda', 'United Kingdom',\n",
       "       'United States', 'Uruguay'], dtype=object)"
      ]
     },
     "execution_count": 45,
     "metadata": {},
     "output_type": "execute_result"
    }
   ],
   "source": [
    "#TotalGovernmentDebt_df.head(2)\n",
    "public_Debt_Indicators_df['Country Name'].unique()"
   ]
  },
  {
   "cell_type": "code",
   "execution_count": 46,
   "metadata": {},
   "outputs": [
    {
     "data": {
      "text/plain": [
       "(6572, 16)"
      ]
     },
     "execution_count": 46,
     "metadata": {},
     "output_type": "execute_result"
    }
   ],
   "source": [
    "public_Debt_Indicators_df.shape"
   ]
  },
  {
   "cell_type": "code",
   "execution_count": 47,
   "metadata": {},
   "outputs": [
    {
     "data": {
      "text/plain": [
       "Country Name         0\n",
       "Country Code         0\n",
       "Series Name          0\n",
       "Series Code          0\n",
       "2021Q1 [YR2021Q1]    0\n",
       "2021Q2 [YR2021Q2]    0\n",
       "2021Q3 [YR2021Q3]    0\n",
       "2021Q4 [YR2021Q4]    0\n",
       "2022Q1 [YR2022Q1]    0\n",
       "2022Q2 [YR2022Q2]    0\n",
       "2022Q3 [YR2022Q3]    0\n",
       "2022Q4 [YR2022Q4]    0\n",
       "2023Q1 [YR2023Q1]    0\n",
       "2023Q2 [YR2023Q2]    0\n",
       "2023Q3 [YR2023Q3]    0\n",
       "2023Q4 [YR2023Q4]    0\n",
       "dtype: int64"
      ]
     },
     "execution_count": 47,
     "metadata": {},
     "output_type": "execute_result"
    }
   ],
   "source": [
    "public_Debt_Indicators_df.isnull().sum()"
   ]
  },
  {
   "cell_type": "code",
   "execution_count": 48,
   "metadata": {},
   "outputs": [
    {
     "data": {
      "text/plain": [
       "Country Name         object\n",
       "Country Code         object\n",
       "Series Name          object\n",
       "Series Code          object\n",
       "2021Q1 [YR2021Q1]    object\n",
       "2021Q2 [YR2021Q2]    object\n",
       "2021Q3 [YR2021Q3]    object\n",
       "2021Q4 [YR2021Q4]    object\n",
       "2022Q1 [YR2022Q1]    object\n",
       "2022Q2 [YR2022Q2]    object\n",
       "2022Q3 [YR2022Q3]    object\n",
       "2022Q4 [YR2022Q4]    object\n",
       "2023Q1 [YR2023Q1]    object\n",
       "2023Q2 [YR2023Q2]    object\n",
       "2023Q3 [YR2023Q3]    object\n",
       "2023Q4 [YR2023Q4]    object\n",
       "dtype: object"
      ]
     },
     "execution_count": 48,
     "metadata": {},
     "output_type": "execute_result"
    }
   ],
   "source": [
    "public_Debt_Indicators_df.dtypes"
   ]
  },
  {
   "cell_type": "code",
   "execution_count": 49,
   "metadata": {},
   "outputs": [],
   "source": [
    "# Save result\n",
    "public_Debt_Indicators_df.to_csv(\"Public_Debt_Indicators.csv\", index=False)"
   ]
  }
 ],
 "metadata": {
  "kernelspec": {
   "display_name": "base",
   "language": "python",
   "name": "python3"
  },
  "language_info": {
   "codemirror_mode": {
    "name": "ipython",
    "version": 3
   },
   "file_extension": ".py",
   "mimetype": "text/x-python",
   "name": "python",
   "nbconvert_exporter": "python",
   "pygments_lexer": "ipython3",
   "version": "3.11.5"
  }
 },
 "nbformat": 4,
 "nbformat_minor": 2
}
